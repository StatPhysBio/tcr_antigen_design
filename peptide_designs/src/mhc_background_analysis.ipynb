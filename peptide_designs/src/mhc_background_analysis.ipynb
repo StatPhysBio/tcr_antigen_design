{
 "cells": [
  {
   "cell_type": "code",
   "execution_count": 55,
   "metadata": {},
   "outputs": [],
   "source": [
    "import numpy as np\n",
    "import matplotlib.pyplot as plt\n",
    "import pandas as pd\n",
    "import json\n",
    "from itertools import combinations"
   ]
  },
  {
   "cell_type": "code",
   "execution_count": 72,
   "metadata": {},
   "outputs": [],
   "source": [
    "def entropy(p):\n",
    "    p = p + 1e-10\n",
    "    p = p / np.sum(p)\n",
    "    return -np.sum(p * np.log2(p))\n",
    "\n",
    "def comb(n, k):\n",
    "    return np.array(list(combinations(range(1, n+1), k)))\n",
    "\n",
    "def get_k_to_num_sequences(df, wt_sequences, all_possibilities=False):\n",
    "\n",
    "    n = len(df)\n",
    "\n",
    "    aminoacids = df.columns.values\n",
    "    aa_to_idx = {aa: i for i, aa in enumerate(aminoacids)}\n",
    "\n",
    "    k_to_num_sequences = {}\n",
    "\n",
    "    for k in range(0, n+1):\n",
    "        combos = comb(n, k) # combinations are of indices to vary, not keep same as WT\n",
    "\n",
    "        num_sequences = 0\n",
    "        for c_idxs in combos:\n",
    "            sub_pwm_df = df.loc[c_idxs, :]\n",
    "            curr_num_seq = 1\n",
    "            for i in c_idxs:\n",
    "                probas = sub_pwm_df.loc[i, :].values\n",
    "\n",
    "                # need to exclude the WT amino-acid\n",
    "                idxs_to_exclude = []\n",
    "                for wt_seq in wt_sequences:\n",
    "                    idxs_to_exclude.append(aa_to_idx[wt_seq[i-1]])\n",
    "                probas = np.delete(probas, idxs_to_exclude)\n",
    "\n",
    "                if all_possibilities:\n",
    "                    curr_num_seq *= len(probas)\n",
    "                else:\n",
    "                    curr_num_seq *= 2**entropy(probas)\n",
    "            \n",
    "            num_sequences += curr_num_seq\n",
    "        \n",
    "        k_to_num_sequences[k] = num_sequences\n",
    "    \n",
    "    return k_to_num_sequences"
   ]
  },
  {
   "cell_type": "code",
   "execution_count": 71,
   "metadata": {},
   "outputs": [
    {
     "name": "stdout",
     "output_type": "stream",
     "text": [
      "{0: 1, 1: 106, 2: 4852, 3: 125166, 4: 1990791, 5: 20054568, 6: 126400196, 7: 473412800, 8: 939084800, 9: 731136000}\n",
      "{0: 1, 1: 101, 2: 4447, 3: 111659, 4: 1754356, 5: 17784524, 6: 115434768, 7: 457932096, 8: 995113728, 9: 894136320}\n",
      "{0: 1, 1: 123, 2: 6807, 3: 223447, 4: 4826709, 5: 71905017, 6: 752089325, 7: 5507349213, 8: 27572663430, 9: 89504718680, 10: 168733607328, 11: 139341121920}\n"
     ]
    }
   ],
   "source": [
    "df = pd.read_csv('../auxiliary_data/class_I_A0101_9_pwm.csv', index_col=0)\n",
    "wt_sequences = ['SLLMWITQC', 'SLLMWITQV']\n",
    "k_to_num_sequences = get_k_to_num_sequences(df, wt_sequences)\n",
    "# with open('../nyeso/post_experiment_analysis/mhc_constrainted_class_I_A0101_9_nyeso_k_to_num_sequences.json', 'w') as f:\n",
    "#     json.dump(k_to_num_sequences, f, indent=4)\n",
    "print(k_to_num_sequences)\n",
    "\n",
    "df = pd.read_csv('../auxiliary_data/class_I_A0201_9_pwm.csv', index_col=0)\n",
    "wt_sequences = ['EVDPIGHLY', 'ESDPIVAQY']\n",
    "k_to_num_sequences = get_k_to_num_sequences(df, wt_sequences)\n",
    "# with open('../magea3_and_titin/post_experiment_analysis/mhc_constrainted_class_I_A0201_9_mage_k_to_num_sequences.json', 'w') as f:\n",
    "#     json.dump(k_to_num_sequences, f, indent=4)\n",
    "print(k_to_num_sequences)\n",
    "\n",
    "df = pd.read_csv('../auxiliary_data/class_I_B3501_11_pwm.csv', index_col=0)\n",
    "wt_sequences = ['HPVGEADYFEY', 'HPVGQADYFEY']\n",
    "k_to_num_sequences = get_k_to_num_sequences(df, wt_sequences)\n",
    "# with open('../ebv/post_experiment_analysis/mhc_constrainted_class_I_B3501_11_ebv_k_to_num_sequences.json', 'w') as f:\n",
    "#     json.dump(k_to_num_sequences, f, indent=4)\n",
    "print(k_to_num_sequences)\n",
    "\n"
   ]
  },
  {
   "cell_type": "code",
   "execution_count": 76,
   "metadata": {},
   "outputs": [],
   "source": [
    "# df = pd.read_csv('../auxiliary_data/class_I_A0101_9_pwm.csv', index_col=0)\n",
    "# wt_sequences = ['SLLMWITQC', 'SLLMWITQV']\n",
    "# k_to_num_sequences = get_k_to_num_sequences(df, wt_sequences)\n",
    "# # with open('../nyeso/post_experiment_analysis/mhc_constrainted_class_I_A0101_9_nyeso_k_to_num_sequences.json', 'w') as f:\n",
    "# #     json.dump(k_to_num_sequences, f, indent=4)\n",
    "# print(k_to_num_sequences)\n",
    "\n",
    "# df = pd.read_csv('../auxiliary_data/class_I_A0201_9_pwm.csv', index_col=0)\n",
    "# wt_sequences = ['EVDPIGHLY', 'ESDPIVAQY']\n",
    "# k_to_num_sequences = get_k_to_num_sequences(df, wt_sequences)\n",
    "# # with open('../magea3_and_titin/post_experiment_analysis/mhc_constrainted_class_I_A0201_9_mage_k_to_num_sequences.json', 'w') as f:\n",
    "# #     json.dump(k_to_num_sequences, f, indent=4)\n",
    "# print(k_to_num_sequences)\n",
    "\n",
    "# df = pd.read_csv('../auxiliary_data/class_I_B3501_11_pwm.csv', index_col=0)\n",
    "# wt_sequences = ['HPVGEADYFEY', 'HPVGQADYFEY']\n",
    "# k_to_num_sequences = get_k_to_num_sequences(df, wt_sequences)\n",
    "# # with open('../ebv/post_experiment_analysis/mhc_constrainted_class_I_B3501_11_ebv_k_to_num_sequences.json', 'w') as f:\n",
    "# #     json.dump(k_to_num_sequences, f, indent=4)\n",
    "# print(k_to_num_sequences)\n",
    "\n",
    "# computed by armita\n",
    "# B3501 : {123, 6698, 212272, 4327296, 59171840, 548667392, 3404464128,  13581156352, 32145145856}\n",
    "# A0101 : {106, 4832, 123424, 1928192, 18866176, 113770496, 400556032}\n",
    "# A0201 : {112, 5456, 151168, 2613248, 29065216, 206569472, 897581056, 2147483648}\n",
    "\n",
    "with open('../nyeso/post_experiment_analysis/mhc_constrainted_class_I_A0101_9_nyeso_k_to_num_sequences.json', 'w') as f:\n",
    "    json.dump(dict(zip([str(x) for x in range(1, 8)], [106, 4832, 123424, 1928192, 18866176, 113770496, 400556032])), f, indent=4)\n",
    "\n",
    "with open('../magea3_and_titin/post_experiment_analysis/mhc_constrainted_class_I_A0201_9_mage_k_to_num_sequences.json', 'w') as f:\n",
    "    json.dump(dict(zip([str(x) for x in range(1, 9)], [112, 5456, 151168, 2613248, 29065216, 206569472, 897581056, 2147483648])), f, indent=4)\n",
    "\n",
    "with open('../ebv/post_experiment_analysis/mhc_constrainted_class_I_B3501_11_ebv_k_to_num_sequences.json', 'w') as f:\n",
    "    json.dump(dict(zip([str(x) for x in range(1, 10)], [123, 6698, 212272, 4327296, 59171840, 548667392, 3404464128,  13581156352, 32145145856])), f, indent=4)\n"
   ]
  },
  {
   "cell_type": "code",
   "execution_count": 75,
   "metadata": {},
   "outputs": [],
   "source": [
    "# df = pd.read_csv('../auxiliary_data/class_I_A0101_9_pwm.csv', index_col=0)\n",
    "# wt_sequences = ['SLLMWITQC', 'SLLMWITQV']\n",
    "# k_to_num_sequences = get_k_to_num_sequences(df, wt_sequences, all_possibilities=True)\n",
    "# # with open('../nyeso/post_experiment_analysis/all_possibilities_class_I_A0101_9_nyeso_k_to_num_sequences.json', 'w') as f:\n",
    "# #     json.dump(k_to_num_sequences, f, indent=4)\n",
    "# print(k_to_num_sequences)\n",
    "\n",
    "# df = pd.read_csv('../auxiliary_data/class_I_A0201_9_pwm.csv', index_col=0)\n",
    "# wt_sequences = ['EVDPIGHLY', 'ESDPIVAQY']\n",
    "# k_to_num_sequences = get_k_to_num_sequences(df, wt_sequences, all_possibilities=True)\n",
    "# # with open('../magea3_and_titin/post_experiment_analysis/all_possibilities_class_I_A0201_9_mage_k_to_num_sequences.json', 'w') as f:\n",
    "# #     json.dump(k_to_num_sequences, f, indent=4)\n",
    "# print(k_to_num_sequences)\n",
    "\n",
    "# df = pd.read_csv('../auxiliary_data/class_I_B3501_11_pwm.csv', index_col=0)\n",
    "# wt_sequences = ['HPVGEADYFEY', 'HPVGQADYFEY']\n",
    "# k_to_num_sequences = get_k_to_num_sequences(df, wt_sequences, all_possibilities=True)\n",
    "# # with open('../ebv/post_experiment_analysis/all_possibilities_class_I_B3501_11_ebv_k_to_num_sequences.json', 'w') as f:\n",
    "# #     json.dump(k_to_num_sequences, f, indent=4)\n",
    "# print(k_to_num_sequences)\n",
    "\n",
    "# computed by armita\n",
    "# B3501: {209, 19855, 1131735, 43005930, 1143957738, 21735197022, 294977673870, 2802287901765, 17747823377845}\n",
    "# A0101 & A0201: {171, 12996, 576156, 16420446, 311988474, 3951854004, 32179382604, 152852067369, 322687697779}\n",
    "\n",
    "with open('../nyeso/post_experiment_analysis/all_possibilities_class_I_A0101_9_nyeso_k_to_num_sequences.json', 'w') as f:\n",
    "    json.dump(dict(zip([str(x) for x in range(1, 10)], [171, 12996, 576156, 16420446, 311988474, 3951854004, 32179382604, 152852067369, 322687697779])), f, indent=4)\n",
    "\n",
    "with open('../magea3_and_titin/post_experiment_analysis/all_possibilities_class_I_A0201_9_mage_k_to_num_sequences.json', 'w') as f:\n",
    "    json.dump(dict(zip([str(x) for x in range(1, 10)], [171, 12996, 576156, 16420446, 311988474, 3951854004, 32179382604, 152852067369, 322687697779])), f, indent=4)\n",
    "\n",
    "with open('../ebv/post_experiment_analysis/all_possibilities_class_I_B3501_11_ebv_k_to_num_sequences.json', 'w') as f:\n",
    "    json.dump(dict(zip([str(x) for x in range(1, 10)], [209, 19855, 1131735, 43005930, 1143957738, 21735197022, 294977673870, 2802287901765, 17747823377845])), f, indent=4)\n"
   ]
  },
  {
   "cell_type": "code",
   "execution_count": 63,
   "metadata": {},
   "outputs": [
    {
     "data": {
      "text/plain": [
       "5.656854249492381"
      ]
     },
     "execution_count": 63,
     "metadata": {},
     "output_type": "execute_result"
    }
   ],
   "source": [
    "2**2.5"
   ]
  },
  {
   "cell_type": "code",
   "execution_count": null,
   "metadata": {},
   "outputs": [],
   "source": []
  }
 ],
 "metadata": {
  "kernelspec": {
   "display_name": "e3nn-tutorial",
   "language": "python",
   "name": "python3"
  },
  "language_info": {
   "codemirror_mode": {
    "name": "ipython",
    "version": 3
   },
   "file_extension": ".py",
   "mimetype": "text/x-python",
   "name": "python",
   "nbconvert_exporter": "python",
   "pygments_lexer": "ipython3",
   "version": "3.9.7"
  }
 },
 "nbformat": 4,
 "nbformat_minor": 2
}
