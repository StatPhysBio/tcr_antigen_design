{
 "cells": [
  {
   "cell_type": "code",
   "execution_count": 2,
   "metadata": {},
   "outputs": [],
   "source": [
    "import os\n",
    "import numpy as np\n",
    "import pandas as pd"
   ]
  },
  {
   "cell_type": "code",
   "execution_count": 6,
   "metadata": {},
   "outputs": [
    {
     "name": "stdout",
     "output_type": "stream",
     "text": [
      "A0101: 4\n",
      "A0201: 16\n",
      "A1101: 5\n",
      "A2402: 5\n",
      "B0702: 8\n",
      "B0801: 0\n",
      "B2705: 11\n",
      "B3501: 6\n",
      "B3508: 0\n",
      "B4405: 4\n",
      "H2-Db: 1\n",
      "H2-Kb: 0\n",
      "H2-Ld: 0\n"
     ]
    }
   ],
   "source": [
    "df_train = pd.read_csv('combo_1and2_train.tsv', sep='\\t')\n",
    "df_valid = pd.read_csv('combo_1and2_valid.tsv', sep='\\t')\n",
    "\n",
    "# filter keeping rows where the value of 'targetid' is of length equal to 4\n",
    "df_train = df_train[df_train['targetid'].str.len() == 4]\n",
    "df_valid = df_valid[df_valid['targetid'].str.len() == 4]\n",
    "\n",
    "# we don't have a validation set for what we're trying to do\n",
    "training_pdbs = df_train['targetid'].tolist() + df_valid['targetid'].tolist()\n",
    "\n",
    "\n",
    "df_with_alleles = pd.read_csv('data_classI_MHC_I_structures.txt', sep='\\t')\n",
    "\n",
    "pdb_to_allele = dict(zip(df_with_alleles['PDB'], df_with_alleles['Allele']))\n",
    "\n",
    "final_training_pdbs = []\n",
    "final_training_alleles = []\n",
    "for pdb in training_pdbs:\n",
    "    if pdb in pdb_to_allele:\n",
    "        final_training_pdbs.append(pdb)\n",
    "        final_training_alleles.append(pdb_to_allele[pdb])\n",
    "\n",
    "# create a dataframe with the final training pdbs and their corresponding alleles\n",
    "df_final = pd.DataFrame({\n",
    "    'pdb': final_training_pdbs,\n",
    "    'allele': final_training_alleles\n",
    "})\n",
    "# save the dataframe to a tsv file\n",
    "df_final.to_csv('training_pdbs_alleles.tsv', sep='\\t', index=False)\n",
    "\n",
    "alleles_of_interest = ['A0101', 'A0201', 'A1101', 'A2402', 'B0702', 'B0801', 'B2705', 'B3501', 'B3508', 'B4405', 'H2-Db', 'H2-Kb', 'H2-Ld']\n",
    "\n",
    "from collections import Counter\n",
    "allele_counts = Counter(final_training_alleles)\n",
    "# sort the alleles by their counts\n",
    "sorted_allele_counts = sorted(allele_counts.items(), key=lambda x: x[1], reverse=True)\n",
    "# print the sorted allele counts\n",
    "for allele in alleles_of_interest:\n",
    "    if allele in allele_counts:\n",
    "        print(f\"{allele}: {allele_counts[allele]}\")\n",
    "    else:\n",
    "        print(f\"{allele}: 0\")\n",
    "\n",
    "'''\n",
    "It looks like we're better off by using the TCR-pMHC structures directly and removing the TCR...\n",
    "'''\n"
   ]
  },
  {
   "cell_type": "code",
   "execution_count": null,
   "metadata": {},
   "outputs": [],
   "source": []
  }
 ],
 "metadata": {
  "kernelspec": {
   "display_name": "e3nn-tutorial",
   "language": "python",
   "name": "python3"
  },
  "language_info": {
   "codemirror_mode": {
    "name": "ipython",
    "version": 3
   },
   "file_extension": ".py",
   "mimetype": "text/x-python",
   "name": "python",
   "nbconvert_exporter": "python",
   "pygments_lexer": "ipython3",
   "version": "3.9.7"
  }
 },
 "nbformat": 4,
 "nbformat_minor": 2
}
