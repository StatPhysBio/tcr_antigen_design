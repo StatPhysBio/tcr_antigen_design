{
 "cells": [
  {
   "cell_type": "code",
   "execution_count": 2,
   "metadata": {},
   "outputs": [],
   "source": [
    "import os\n",
    "import numpy as np\n",
    "import pandas as pd"
   ]
  },
  {
   "cell_type": "code",
   "execution_count": 18,
   "metadata": {},
   "outputs": [
    {
     "name": "stdout",
     "output_type": "stream",
     "text": [
      "Missing pdbs: 127\n"
     ]
    }
   ],
   "source": [
    "df_train = pd.read_csv('combo_1and2_train.tsv', sep='\\t')\n",
    "df_valid = pd.read_csv('combo_1and2_valid.tsv', sep='\\t')\n",
    "\n",
    "# we don't have a validation set for what we're trying to do\n",
    "df_train = pd.concat([df_train, df_valid])\n",
    "\n",
    "# only keep binders\n",
    "df_train = df_train[df_train['binder'].values.astype(bool)]\n",
    "\n",
    "## first, have to find the allele of the experimentally-resolved structures\n",
    "\n",
    "# filter keeping rows where the value of 'targetid' is of length equal to 4\n",
    "df_train_crystal = df_train[df_train['targetid'].str.len() == 4]\n",
    "\n",
    "# copy over the pdbfiles of crystal structures\n",
    "inputdir = '/Users/gianmarcovisani/Desktop'\n",
    "outdir = './pdbs/pmhc'\n",
    "os.makedirs(outdir, exist_ok=True)\n",
    "\n",
    "for i, row in df_train_crystal.iterrows():\n",
    "    pdbpath = os.path.join(inputdir, row['native_pdbfile'])\n",
    "\n",
    "    os.system(f'cp {pdbpath} {outdir}')\n",
    "\n",
    "    # change its name to be just the pdbid\n",
    "    old_pdbpath = os.path.join(outdir, os.path.basename(pdbpath))\n",
    "    old_pdbfile_name = os.path.basename(old_pdbpath)[:-4]\n",
    "    new_pdbfile_name = old_pdbfile_name[:4]\n",
    "    new_pdbpath = os.path.join(outdir, new_pdbfile_name+'.pdb')\n",
    "\n",
    "    os.system(f'mv {old_pdbpath} {new_pdbpath}')\n",
    "\n",
    "\n",
    "training_pdbs_crystal = df_train_crystal['targetid'].tolist()\n",
    "\n",
    "df_with_alleles = pd.read_csv('data_classI_MHC_I_structures.txt', sep='\\t')\n",
    "\n",
    "pdb_to_allele = dict(zip(df_with_alleles['PDB'], df_with_alleles['Allele']))\n",
    "\n",
    "final_training_pdbs = []\n",
    "final_training_alleles = []\n",
    "missing_pdbs = 0\n",
    "for pdb in training_pdbs_crystal:\n",
    "    if pdb in pdb_to_allele:\n",
    "        final_training_pdbs.append(pdb)\n",
    "        final_training_alleles.append(pdb_to_allele[pdb])\n",
    "    else:\n",
    "        missing_pdbs += 1\n",
    "\n",
    "print('Missing pdbs:', missing_pdbs)\n",
    "\n",
    "# create a dataframe with the experimentally resolved pdbs and their corresponding alleles\n",
    "df_train_crystal = pd.merge(df_train_crystal, pd.DataFrame({'targetid': final_training_pdbs, 'allele': final_training_alleles}), on=['targetid'])\n",
    "df_train_crystal = df_train_crystal.loc[:, ['targetid', 'allele', 'native_pdbfile']]\n",
    "\n",
    "df_train_crystal.to_csv('training_pdbs_alleles.tsv', sep='\\t', index=False)\n",
    "\n",
    "\n",
    "alleles_of_interest = ['A0101', 'A0201', 'A1101', 'A2402', 'B0702', 'B0801', 'B2705', 'B3501', 'B3508', 'B4405', 'H2-Db', 'H2-Kb', 'H2-Ld']\n",
    "\n",
    "# from collections import Counter\n",
    "# allele_counts = Counter(final_training_alleles)\n",
    "# # sort the alleles by their counts\n",
    "# sorted_allele_counts = sorted(allele_counts.items(), key=lambda x: x[1], reverse=True)\n",
    "# # print the sorted allele counts\n",
    "# for allele in alleles_of_interest:\n",
    "#     if allele in allele_counts:\n",
    "#         print(f\"{allele}: {allele_counts[allele]}\")\n",
    "#     else:\n",
    "#         print(f\"{allele}: 0\")\n"
   ]
  },
  {
   "cell_type": "code",
   "execution_count": null,
   "metadata": {},
   "outputs": [],
   "source": []
  }
 ],
 "metadata": {
  "kernelspec": {
   "display_name": "e3nn-tutorial",
   "language": "python",
   "name": "python3"
  },
  "language_info": {
   "codemirror_mode": {
    "name": "ipython",
    "version": 3
   },
   "file_extension": ".py",
   "mimetype": "text/x-python",
   "name": "python",
   "nbconvert_exporter": "python",
   "pygments_lexer": "ipython3",
   "version": "3.9.7"
  }
 },
 "nbformat": 4,
 "nbformat_minor": 2
}
